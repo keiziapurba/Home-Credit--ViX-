{
  "nbformat": 4,
  "nbformat_minor": 0,
  "metadata": {
    "colab": {
      "name": "HCI - Modeling.ipynb",
      "provenance": [],
      "collapsed_sections": []
    },
    "kernelspec": {
      "name": "python3",
      "display_name": "Python 3"
    },
    "language_info": {
      "name": "python"
    }
  },
  "cells": [
    {
      "cell_type": "code",
      "execution_count": 1,
      "metadata": {
        "id": "XIWVd07PmqCS"
      },
      "outputs": [],
      "source": [
        "import pandas as pd\n",
        "import pandas.plotting as pp\n",
        "import matplotlib.pyplot as plt\n",
        "from sklearn.impute import SimpleImputer\n",
        "import numpy as np\n",
        "from sklearn.preprocessing import MinMaxScaler, LabelEncoder\n",
        "from sklearn.model_selection import train_test_split, KFold\n",
        "from sklearn.feature_selection import VarianceThreshold\n",
        "from sklearn.ensemble import RandomForestClassifier\n",
        "from sklearn.utils import shuffle\n",
        "\n",
        "\n",
        "\n",
        "import seaborn as sns\n",
        "from sklearn import tree\n",
        "from sklearn import ensemble\n",
        "from sklearn import metrics\n",
        "from sklearn import model_selection\n",
        "from sklearn.model_selection import GridSearchCV\n",
        "from lightgbm import LGBMClassifier\n",
        "from sklearn.linear_model import LogisticRegression\n",
        "from sklearn.metrics import f1_score, precision_score, recall_score, confusion_matrix, classification_report\n",
        "from sklearn.preprocessing import StandardScaler\n",
        "from sklearn.linear_model import LogisticRegression\n",
        "from sklearn.metrics import classification_report\n",
        "from sklearn.model_selection import KFold\n",
        "pd.set_option('display.max_rows', 100)\n",
        "import warnings\n",
        "warnings.filterwarnings(\"ignore\")"
      ]
    },
    {
      "cell_type": "code",
      "source": [
        "from google.colab import drive\n",
        "drive.mount('/content/drive')"
      ],
      "metadata": {
        "colab": {
          "base_uri": "https://localhost:8080/"
        },
        "id": "4Pv2sPe6m2F9",
        "outputId": "34db48f0-7792-4428-ece0-46a1612cef9a"
      },
      "execution_count": 2,
      "outputs": [
        {
          "output_type": "stream",
          "name": "stdout",
          "text": [
            "Mounted at /content/drive\n"
          ]
        }
      ]
    },
    {
      "cell_type": "markdown",
      "source": [
        "# Import Final Dataset"
      ],
      "metadata": {
        "id": "EGoXYnxUm8K0"
      }
    },
    {
      "cell_type": "code",
      "source": [
        "# Import final dataset from preprocessing 2\n",
        "\n",
        "data= pd.read_csv('/content/drive/MyDrive/RAKAMIN (Bootcamp & JAP)/home-credit-default-risk/Final_dataset.csv')\n",
        "data.head()"
      ],
      "metadata": {
        "colab": {
          "base_uri": "https://localhost:8080/",
          "height": 314
        },
        "id": "UybKKNm1m8xV",
        "outputId": "7e46e895-e47f-40c2-f11d-5c46027fb471"
      },
      "execution_count": 3,
      "outputs": [
        {
          "output_type": "execute_result",
          "data": {
            "text/plain": [
              "   AMT_CREDIT_SUM  DAYS_CREDIT_UPDATE  DAYS_CREDIT  CREDIT_ACTIVE_Active  \\\n",
              "0    6.955005e+05        -1530.333333 -1826.333333                 0.000   \n",
              "1    3.836853e+05         -209.000000 -1004.800000                 1.000   \n",
              "2    2.902989e+05         -730.000000 -1433.125000                 0.375   \n",
              "3    2.250000e+05           -7.000000  -441.000000                 0.000   \n",
              "4    1.800000e+06         -760.000000 -1186.000000                 0.000   \n",
              "\n",
              "   CREDIT_ACTIVE_Closed  CREDIT_TYPE_Microloan  buro_count  AMT_DOWN_PAYMENT  \\\n",
              "0                 1.000                    0.0         3.0              3.78   \n",
              "1                 0.000                    0.0         5.0           8685.00   \n",
              "2                 0.625                    0.0         8.0          13918.50   \n",
              "3                 1.000                    0.0         1.0              0.00   \n",
              "4                 1.000                    0.0         1.0          10165.50   \n",
              "\n",
              "   RATE_DOWN_PAYMENT  CNT_INSTALMENT  ...  DAYS_BIRTH  \\\n",
              "0           0.000030       19.471698  ...    -12170.0   \n",
              "1           0.099458       11.947368  ...    -10885.0   \n",
              "2           0.518958       12.000000  ...    -18711.0   \n",
              "3           0.000000       18.000000  ...    -20503.0   \n",
              "4           0.156673       11.090909  ...    -16973.0   \n",
              "\n",
              "   REGION_POPULATION_RELATIVE  AMT_CREDIT_x  AMT_INCOME_TOTAL  \\\n",
              "0                    0.009657      869296.5          202500.0   \n",
              "1                    0.008068      207306.0          112500.0   \n",
              "2                    0.006305      942300.0          112500.0   \n",
              "3                    0.026392      675000.0          103500.0   \n",
              "4                    0.020713      761872.5          189000.0   \n",
              "\n",
              "   REG_CITY_NOT_WORK_CITY  HOUSETYPE_MODE_block of flats  \\\n",
              "0                     0.0                            1.0   \n",
              "1                     0.0                            0.0   \n",
              "2                     1.0                            0.0   \n",
              "3                     0.0                            0.0   \n",
              "4                     0.0                            0.0   \n",
              "\n",
              "   EMERGENCYSTATE_MODE_No  ORGANIZATION_TYPE_XNA  OCCUPATION_TYPE_Laborers  \\\n",
              "0                     1.0                    0.0                       0.0   \n",
              "1                     0.0                    0.0                       0.0   \n",
              "2                     0.0                    0.0                       0.0   \n",
              "3                     0.0                    1.0                       0.0   \n",
              "4                     1.0                    0.0                       1.0   \n",
              "\n",
              "   TARGET  \n",
              "0     0.0  \n",
              "1     1.0  \n",
              "2     0.0  \n",
              "3     0.0  \n",
              "4     1.0  \n",
              "\n",
              "[5 rows x 94 columns]"
            ],
            "text/html": [
              "\n",
              "  <div id=\"df-07f83778-0942-41ca-aa16-c28157f9d706\">\n",
              "    <div class=\"colab-df-container\">\n",
              "      <div>\n",
              "<style scoped>\n",
              "    .dataframe tbody tr th:only-of-type {\n",
              "        vertical-align: middle;\n",
              "    }\n",
              "\n",
              "    .dataframe tbody tr th {\n",
              "        vertical-align: top;\n",
              "    }\n",
              "\n",
              "    .dataframe thead th {\n",
              "        text-align: right;\n",
              "    }\n",
              "</style>\n",
              "<table border=\"1\" class=\"dataframe\">\n",
              "  <thead>\n",
              "    <tr style=\"text-align: right;\">\n",
              "      <th></th>\n",
              "      <th>AMT_CREDIT_SUM</th>\n",
              "      <th>DAYS_CREDIT_UPDATE</th>\n",
              "      <th>DAYS_CREDIT</th>\n",
              "      <th>CREDIT_ACTIVE_Active</th>\n",
              "      <th>CREDIT_ACTIVE_Closed</th>\n",
              "      <th>CREDIT_TYPE_Microloan</th>\n",
              "      <th>buro_count</th>\n",
              "      <th>AMT_DOWN_PAYMENT</th>\n",
              "      <th>RATE_DOWN_PAYMENT</th>\n",
              "      <th>CNT_INSTALMENT</th>\n",
              "      <th>...</th>\n",
              "      <th>DAYS_BIRTH</th>\n",
              "      <th>REGION_POPULATION_RELATIVE</th>\n",
              "      <th>AMT_CREDIT_x</th>\n",
              "      <th>AMT_INCOME_TOTAL</th>\n",
              "      <th>REG_CITY_NOT_WORK_CITY</th>\n",
              "      <th>HOUSETYPE_MODE_block of flats</th>\n",
              "      <th>EMERGENCYSTATE_MODE_No</th>\n",
              "      <th>ORGANIZATION_TYPE_XNA</th>\n",
              "      <th>OCCUPATION_TYPE_Laborers</th>\n",
              "      <th>TARGET</th>\n",
              "    </tr>\n",
              "  </thead>\n",
              "  <tbody>\n",
              "    <tr>\n",
              "      <th>0</th>\n",
              "      <td>6.955005e+05</td>\n",
              "      <td>-1530.333333</td>\n",
              "      <td>-1826.333333</td>\n",
              "      <td>0.000</td>\n",
              "      <td>1.000</td>\n",
              "      <td>0.0</td>\n",
              "      <td>3.0</td>\n",
              "      <td>3.78</td>\n",
              "      <td>0.000030</td>\n",
              "      <td>19.471698</td>\n",
              "      <td>...</td>\n",
              "      <td>-12170.0</td>\n",
              "      <td>0.009657</td>\n",
              "      <td>869296.5</td>\n",
              "      <td>202500.0</td>\n",
              "      <td>0.0</td>\n",
              "      <td>1.0</td>\n",
              "      <td>1.0</td>\n",
              "      <td>0.0</td>\n",
              "      <td>0.0</td>\n",
              "      <td>0.0</td>\n",
              "    </tr>\n",
              "    <tr>\n",
              "      <th>1</th>\n",
              "      <td>3.836853e+05</td>\n",
              "      <td>-209.000000</td>\n",
              "      <td>-1004.800000</td>\n",
              "      <td>1.000</td>\n",
              "      <td>0.000</td>\n",
              "      <td>0.0</td>\n",
              "      <td>5.0</td>\n",
              "      <td>8685.00</td>\n",
              "      <td>0.099458</td>\n",
              "      <td>11.947368</td>\n",
              "      <td>...</td>\n",
              "      <td>-10885.0</td>\n",
              "      <td>0.008068</td>\n",
              "      <td>207306.0</td>\n",
              "      <td>112500.0</td>\n",
              "      <td>0.0</td>\n",
              "      <td>0.0</td>\n",
              "      <td>0.0</td>\n",
              "      <td>0.0</td>\n",
              "      <td>0.0</td>\n",
              "      <td>1.0</td>\n",
              "    </tr>\n",
              "    <tr>\n",
              "      <th>2</th>\n",
              "      <td>2.902989e+05</td>\n",
              "      <td>-730.000000</td>\n",
              "      <td>-1433.125000</td>\n",
              "      <td>0.375</td>\n",
              "      <td>0.625</td>\n",
              "      <td>0.0</td>\n",
              "      <td>8.0</td>\n",
              "      <td>13918.50</td>\n",
              "      <td>0.518958</td>\n",
              "      <td>12.000000</td>\n",
              "      <td>...</td>\n",
              "      <td>-18711.0</td>\n",
              "      <td>0.006305</td>\n",
              "      <td>942300.0</td>\n",
              "      <td>112500.0</td>\n",
              "      <td>1.0</td>\n",
              "      <td>0.0</td>\n",
              "      <td>0.0</td>\n",
              "      <td>0.0</td>\n",
              "      <td>0.0</td>\n",
              "      <td>0.0</td>\n",
              "    </tr>\n",
              "    <tr>\n",
              "      <th>3</th>\n",
              "      <td>2.250000e+05</td>\n",
              "      <td>-7.000000</td>\n",
              "      <td>-441.000000</td>\n",
              "      <td>0.000</td>\n",
              "      <td>1.000</td>\n",
              "      <td>0.0</td>\n",
              "      <td>1.0</td>\n",
              "      <td>0.00</td>\n",
              "      <td>0.000000</td>\n",
              "      <td>18.000000</td>\n",
              "      <td>...</td>\n",
              "      <td>-20503.0</td>\n",
              "      <td>0.026392</td>\n",
              "      <td>675000.0</td>\n",
              "      <td>103500.0</td>\n",
              "      <td>0.0</td>\n",
              "      <td>0.0</td>\n",
              "      <td>0.0</td>\n",
              "      <td>1.0</td>\n",
              "      <td>0.0</td>\n",
              "      <td>0.0</td>\n",
              "    </tr>\n",
              "    <tr>\n",
              "      <th>4</th>\n",
              "      <td>1.800000e+06</td>\n",
              "      <td>-760.000000</td>\n",
              "      <td>-1186.000000</td>\n",
              "      <td>0.000</td>\n",
              "      <td>1.000</td>\n",
              "      <td>0.0</td>\n",
              "      <td>1.0</td>\n",
              "      <td>10165.50</td>\n",
              "      <td>0.156673</td>\n",
              "      <td>11.090909</td>\n",
              "      <td>...</td>\n",
              "      <td>-16973.0</td>\n",
              "      <td>0.020713</td>\n",
              "      <td>761872.5</td>\n",
              "      <td>189000.0</td>\n",
              "      <td>0.0</td>\n",
              "      <td>0.0</td>\n",
              "      <td>1.0</td>\n",
              "      <td>0.0</td>\n",
              "      <td>1.0</td>\n",
              "      <td>1.0</td>\n",
              "    </tr>\n",
              "  </tbody>\n",
              "</table>\n",
              "<p>5 rows × 94 columns</p>\n",
              "</div>\n",
              "      <button class=\"colab-df-convert\" onclick=\"convertToInteractive('df-07f83778-0942-41ca-aa16-c28157f9d706')\"\n",
              "              title=\"Convert this dataframe to an interactive table.\"\n",
              "              style=\"display:none;\">\n",
              "        \n",
              "  <svg xmlns=\"http://www.w3.org/2000/svg\" height=\"24px\"viewBox=\"0 0 24 24\"\n",
              "       width=\"24px\">\n",
              "    <path d=\"M0 0h24v24H0V0z\" fill=\"none\"/>\n",
              "    <path d=\"M18.56 5.44l.94 2.06.94-2.06 2.06-.94-2.06-.94-.94-2.06-.94 2.06-2.06.94zm-11 1L8.5 8.5l.94-2.06 2.06-.94-2.06-.94L8.5 2.5l-.94 2.06-2.06.94zm10 10l.94 2.06.94-2.06 2.06-.94-2.06-.94-.94-2.06-.94 2.06-2.06.94z\"/><path d=\"M17.41 7.96l-1.37-1.37c-.4-.4-.92-.59-1.43-.59-.52 0-1.04.2-1.43.59L10.3 9.45l-7.72 7.72c-.78.78-.78 2.05 0 2.83L4 21.41c.39.39.9.59 1.41.59.51 0 1.02-.2 1.41-.59l7.78-7.78 2.81-2.81c.8-.78.8-2.07 0-2.86zM5.41 20L4 18.59l7.72-7.72 1.47 1.35L5.41 20z\"/>\n",
              "  </svg>\n",
              "      </button>\n",
              "      \n",
              "  <style>\n",
              "    .colab-df-container {\n",
              "      display:flex;\n",
              "      flex-wrap:wrap;\n",
              "      gap: 12px;\n",
              "    }\n",
              "\n",
              "    .colab-df-convert {\n",
              "      background-color: #E8F0FE;\n",
              "      border: none;\n",
              "      border-radius: 50%;\n",
              "      cursor: pointer;\n",
              "      display: none;\n",
              "      fill: #1967D2;\n",
              "      height: 32px;\n",
              "      padding: 0 0 0 0;\n",
              "      width: 32px;\n",
              "    }\n",
              "\n",
              "    .colab-df-convert:hover {\n",
              "      background-color: #E2EBFA;\n",
              "      box-shadow: 0px 1px 2px rgba(60, 64, 67, 0.3), 0px 1px 3px 1px rgba(60, 64, 67, 0.15);\n",
              "      fill: #174EA6;\n",
              "    }\n",
              "\n",
              "    [theme=dark] .colab-df-convert {\n",
              "      background-color: #3B4455;\n",
              "      fill: #D2E3FC;\n",
              "    }\n",
              "\n",
              "    [theme=dark] .colab-df-convert:hover {\n",
              "      background-color: #434B5C;\n",
              "      box-shadow: 0px 1px 3px 1px rgba(0, 0, 0, 0.15);\n",
              "      filter: drop-shadow(0px 1px 2px rgba(0, 0, 0, 0.3));\n",
              "      fill: #FFFFFF;\n",
              "    }\n",
              "  </style>\n",
              "\n",
              "      <script>\n",
              "        const buttonEl =\n",
              "          document.querySelector('#df-07f83778-0942-41ca-aa16-c28157f9d706 button.colab-df-convert');\n",
              "        buttonEl.style.display =\n",
              "          google.colab.kernel.accessAllowed ? 'block' : 'none';\n",
              "\n",
              "        async function convertToInteractive(key) {\n",
              "          const element = document.querySelector('#df-07f83778-0942-41ca-aa16-c28157f9d706');\n",
              "          const dataTable =\n",
              "            await google.colab.kernel.invokeFunction('convertToInteractive',\n",
              "                                                     [key], {});\n",
              "          if (!dataTable) return;\n",
              "\n",
              "          const docLinkHtml = 'Like what you see? Visit the ' +\n",
              "            '<a target=\"_blank\" href=https://colab.research.google.com/notebooks/data_table.ipynb>data table notebook</a>'\n",
              "            + ' to learn more about interactive tables.';\n",
              "          element.innerHTML = '';\n",
              "          dataTable['output_type'] = 'display_data';\n",
              "          await google.colab.output.renderOutput(dataTable, element);\n",
              "          const docLink = document.createElement('div');\n",
              "          docLink.innerHTML = docLinkHtml;\n",
              "          element.appendChild(docLink);\n",
              "        }\n",
              "      </script>\n",
              "    </div>\n",
              "  </div>\n",
              "  "
            ]
          },
          "metadata": {},
          "execution_count": 3
        }
      ]
    },
    {
      "cell_type": "markdown",
      "source": [
        "## Data Seperation"
      ],
      "metadata": {
        "id": "n7Qyb0i1nDNR"
      }
    },
    {
      "cell_type": "code",
      "source": [
        "#Extracting Y value from the dataframe\n",
        "\n",
        "filtered_columns = [i for i in data.columns if i not in ['TARGET']]\n",
        "y = data.TARGET\n",
        "x = data[filtered_columns]"
      ],
      "metadata": {
        "id": "XeqixfpmnArX"
      },
      "execution_count": 4,
      "outputs": []
    },
    {
      "cell_type": "code",
      "source": [
        "# Split into train & test with 30% test size\n",
        "\n",
        "x_train, x_test, y_train, y_test = train_test_split(x,y, test_size=0.3, random_state=7)"
      ],
      "metadata": {
        "id": "IFEP2wlEnF8F"
      },
      "execution_count": 5,
      "outputs": []
    },
    {
      "cell_type": "code",
      "source": [
        "# Check the split shapes\n",
        "\n",
        "print('X_train:', x_train.shape)\n",
        "print('Y_train:', y_train.shape)\n",
        "print('X_test:', x_test.shape)\n",
        "print('Y_test:', y_test.shape)"
      ],
      "metadata": {
        "colab": {
          "base_uri": "https://localhost:8080/"
        },
        "id": "KkDQjMiqnLi1",
        "outputId": "c82e903a-6b66-4b1d-b9d9-ea6279337167"
      },
      "execution_count": 6,
      "outputs": [
        {
          "output_type": "stream",
          "name": "stdout",
          "text": [
            "X_train: (395760, 93)\n",
            "Y_train: (395760,)\n",
            "X_test: (169612, 93)\n",
            "Y_test: (169612,)\n"
          ]
        }
      ]
    },
    {
      "cell_type": "markdown",
      "source": [
        "## Scale the test & train datasets"
      ],
      "metadata": {
        "id": "hcq9p_2-nMWq"
      }
    },
    {
      "cell_type": "code",
      "source": [
        "# Scaling the test and train dataframes\n",
        "\n",
        "num_cols = x_test.columns\n",
        "scaler_num = StandardScaler()\n",
        "x_train_num1 = scaler_num.fit_transform(x_train)\n",
        "\n",
        "x_train_num1 = scaler_num.transform(x_train)\n",
        "x_test_num1 = scaler_num.transform(x_test)\n",
        "\n",
        "x_train = pd.DataFrame(x_train_num1, columns=num_cols)\n",
        "x_test = pd.DataFrame(x_test_num1, columns=num_cols)"
      ],
      "metadata": {
        "id": "pzm8B4UWnOP-"
      },
      "execution_count": 7,
      "outputs": []
    },
    {
      "cell_type": "markdown",
      "source": [
        "# Modeling"
      ],
      "metadata": {
        "id": "Zo6SyNuvnTRk"
      }
    },
    {
      "cell_type": "markdown",
      "source": [
        "##  Logistic Regression"
      ],
      "metadata": {
        "id": "J_-zu0R0nTXX"
      }
    },
    {
      "cell_type": "code",
      "source": [
        "logistic = LogisticRegression(random_state=42, n_jobs=10)\n",
        "logistic.fit(x_train,y_train)\n",
        "predictions = logistic.predict_proba(x_test)[:, 1]\n",
        "auc = metrics.roc_auc_score(y_test, predictions)\n",
        "print('AUC:',auc) "
      ],
      "metadata": {
        "colab": {
          "base_uri": "https://localhost:8080/"
        },
        "id": "7nGfJNlDrmeS",
        "outputId": "121f40d4-39b1-4d88-eb43-befc256f4916"
      },
      "execution_count": 11,
      "outputs": [
        {
          "output_type": "stream",
          "name": "stdout",
          "text": [
            "AUC: 0.7427813723586734\n"
          ]
        }
      ]
    },
    {
      "cell_type": "markdown",
      "source": [
        "## Random Forest"
      ],
      "metadata": {
        "id": "F4rVp86inbnS"
      }
    },
    {
      "cell_type": "code",
      "source": [
        "forest = ensemble.RandomForestClassifier(random_state=42, n_jobs=10)\n",
        "forest.fit(x_train,y_train)\n",
        "predicted_y = forest.predict(x_test)\n",
        "auc = metrics.roc_auc_score(y_test, predicted_y)\n",
        "print('AUC:',auc)"
      ],
      "metadata": {
        "colab": {
          "base_uri": "https://localhost:8080/"
        },
        "id": "Eu82Yy80rpUE",
        "outputId": "bcd48584-6390-4a3d-8f66-35e61b088ce5"
      },
      "execution_count": 12,
      "outputs": [
        {
          "output_type": "stream",
          "name": "stdout",
          "text": [
            "AUC: 0.9979289365389986\n"
          ]
        }
      ]
    },
    {
      "cell_type": "markdown",
      "source": [
        "## Building a VotingClassifier"
      ],
      "metadata": {
        "id": "pJ1_7IWwnfxs"
      }
    },
    {
      "cell_type": "markdown",
      "source": [
        "### Kfold validation"
      ],
      "metadata": {
        "id": "98oWjdZsnf1q"
      }
    },
    {
      "cell_type": "code",
      "source": [
        "data= x_train\n",
        "y = y_train\n",
        "folds = KFold(n_splits=5, shuffle=True, random_state=7777777)\n",
        "oof_preds = np.zeros(data.shape[0])\n",
        "\n",
        "\n",
        "feature_importance_df = pd.DataFrame()\n",
        "\n",
        "feats = [f for f in data.columns if f not in ['SK_ID_CURR']]\n",
        "\n",
        "for n_fold, (trn_idx, val_idx) in enumerate(folds.split(data)):\n",
        "    trn_x, trn_y = data[feats].iloc[trn_idx], y.iloc[trn_idx]\n",
        "    val_x, val_y = data[feats].iloc[val_idx], y.iloc[val_idx]\n",
        "    voting =ensemble.VotingClassifier(estimators=[('forest', forest),\n",
        "                                              ('logit', logistic)], voting='soft', n_jobs=10, flatten_transform=True)\n",
        "    voting.fit(trn_x, trn_y\n",
        "           )\n",
        "    oof_preds[val_idx] = voting.predict(val_x)\n",
        "    print('Fold %2d AUC : %.6f' % (n_fold + 1, metrics.roc_auc_score(val_y, oof_preds[val_idx])))\n",
        "    del voting, trn_x, trn_y, val_x, val_y\n",
        "\n",
        "print('Full AUC score %.6f' % metrics.roc_auc_score(y, oof_preds)) "
      ],
      "metadata": {
        "colab": {
          "base_uri": "https://localhost:8080/"
        },
        "id": "UB1Ko8qpngAc",
        "outputId": "7259af04-d665-4bf6-df69-da5f8a793914"
      },
      "execution_count": 13,
      "outputs": [
        {
          "output_type": "stream",
          "name": "stdout",
          "text": [
            "Fold  1 AUC : 0.954413\n",
            "Fold  2 AUC : 0.954116\n",
            "Fold  3 AUC : 0.953055\n",
            "Fold  4 AUC : 0.953546\n",
            "Fold  5 AUC : 0.955154\n",
            "Full AUC score 0.954057\n"
          ]
        }
      ]
    },
    {
      "cell_type": "markdown",
      "source": [
        "### Training the model"
      ],
      "metadata": {
        "id": "1JXidou0npPL"
      }
    },
    {
      "cell_type": "code",
      "source": [
        "# Train the voting classifier\n",
        "voting =ensemble.VotingClassifier(estimators=[('forest', forest),\n",
        "                                              ('logit', logistic)], voting='soft',n_jobs=10, flatten_transform=True)\n",
        "voting.fit(x_train,y_train)"
      ],
      "metadata": {
        "colab": {
          "base_uri": "https://localhost:8080/"
        },
        "id": "6TXEDm4Inpqs",
        "outputId": "22aa0fb6-6f43-406b-ed2a-acb132b4a32b"
      },
      "execution_count": 14,
      "outputs": [
        {
          "output_type": "execute_result",
          "data": {
            "text/plain": [
              "VotingClassifier(estimators=[('forest',\n",
              "                              RandomForestClassifier(n_jobs=10,\n",
              "                                                     random_state=42)),\n",
              "                             ('logit',\n",
              "                              LogisticRegression(n_jobs=10, random_state=42))],\n",
              "                 n_jobs=10, voting='soft')"
            ]
          },
          "metadata": {},
          "execution_count": 14
        }
      ]
    },
    {
      "cell_type": "code",
      "source": [
        "predicted_y = voting.predict(x_test)"
      ],
      "metadata": {
        "id": "5aKSqljunsAu"
      },
      "execution_count": 15,
      "outputs": []
    },
    {
      "cell_type": "markdown",
      "source": [
        "### Classification Report"
      ],
      "metadata": {
        "id": "A2Be4fpfntrm"
      }
    },
    {
      "cell_type": "code",
      "source": [
        "auc = metrics.roc_auc_score(y_test, predicted_y)\n",
        "accuracy = metrics.accuracy_score(y_test, predicted_y)\n",
        "print(classification_report(y_test, predicted_y))\n",
        "print('AUC:',auc)\n",
        "print('Accuracy:',accuracy)"
      ],
      "metadata": {
        "colab": {
          "base_uri": "https://localhost:8080/"
        },
        "id": "8x1UE2Nznt0_",
        "outputId": "3851dc8e-2467-478b-e2f8-d0f817c0e9b9"
      },
      "execution_count": 16,
      "outputs": [
        {
          "output_type": "stream",
          "name": "stdout",
          "text": [
            "              precision    recall  f1-score   support\n",
            "\n",
            "         0.0       1.00      0.93      0.96     84729\n",
            "         1.0       0.93      1.00      0.97     84883\n",
            "\n",
            "    accuracy                           0.96    169612\n",
            "   macro avg       0.97      0.96      0.96    169612\n",
            "weighted avg       0.97      0.96      0.96    169612\n",
            "\n",
            "AUC: 0.9642394724790875\n",
            "Accuracy: 0.9642713958918001\n"
          ]
        }
      ]
    },
    {
      "cell_type": "markdown",
      "source": [
        "###  Confusion Matrix"
      ],
      "metadata": {
        "id": "dik_BE8enyIC"
      }
    },
    {
      "cell_type": "code",
      "source": [
        "cnf_matrix = metrics.confusion_matrix(y_test, predicted_y)\n",
        "class_names=['Re-paid(0)','Not Re-paid(1)'] # name  of classes\n",
        "fig, ax = plt.subplots()\n",
        "tick_marks = np.arange(len(class_names))\n",
        "plt.xticks(tick_marks, class_names)\n",
        "plt.yticks(tick_marks, class_names)\n",
        "\n",
        "# create heatmap\n",
        "sns.heatmap(pd.DataFrame(cnf_matrix), annot=True, cmap=\"YlGnBu\" ,fmt='g', xticklabels=class_names,\n",
        "    yticklabels=class_names)\n",
        "ax.xaxis.set_label_position(\"top\")\n",
        "plt.tight_layout()\n",
        "plt.title('Confusion matrix', y=1.1)\n",
        "plt.ylabel('Actual label')\n",
        "plt.xlabel('Predicted label')"
      ],
      "metadata": {
        "colab": {
          "base_uri": "https://localhost:8080/",
          "height": 342
        },
        "id": "peqLhpfLnyRe",
        "outputId": "66cd67be-277f-4644-ce9f-73423f9ce58b"
      },
      "execution_count": 17,
      "outputs": [
        {
          "output_type": "execute_result",
          "data": {
            "text/plain": [
              "Text(0.5, 257.44, 'Predicted label')"
            ]
          },
          "metadata": {},
          "execution_count": 17
        },
        {
          "output_type": "display_data",
          "data": {
            "text/plain": [
              "<Figure size 432x288 with 2 Axes>"
            ],
            "image/png": "[encoded data removed]"
          },
          "metadata": {
            "needs_background": "light"
          }
        }
      ]
    },
    {
      "cell_type": "markdown",
      "source": [
        "### ROC Curve"
      ],
      "metadata": {
        "id": "gVX33T6Mn2Jj"
      }
    },
    {
      "cell_type": "code",
      "source": [
        "fpr, tpr, thresholds = metrics.roc_curve(y_test, predicted_y)\n",
        "auc = metrics.roc_auc_score(y_test, predicted_y)\n",
        "plt.figure(figsize=(8,6))\n",
        "plt.plot(fpr, tpr, marker='.')\n",
        "plt.plot([0, 1], [0, 1], linestyle='--')\n",
        "plt.title('ROC curve', fontsize = 20)\n",
        "plt.xlabel('FPR', fontsize=15)\n",
        "plt.ylabel('TPR', fontsize=15)\n",
        "plt.grid()\n",
        "plt.legend([\"AUC=%.3f\"%auc])\n",
        "plt.show()"
      ],
      "metadata": {
        "colab": {
          "base_uri": "https://localhost:8080/",
          "height": 414
        },
        "id": "Rn6naht6n2UM",
        "outputId": "88d187c1-f94b-4a81-9242-b3fb62187eba"
      },
      "execution_count": 18,
      "outputs": [
        {
          "output_type": "display_data",
          "data": {
            "text/plain": [
              "<Figure size 576x432 with 1 Axes>"
            ],
            "image/png": "[encoded data removed]"
          },
          "metadata": {
            "needs_background": "light"
          }
        }
      ]
    },
    {
      "cell_type": "markdown",
      "source": [
        "## Top 20 feature Importances"
      ],
      "metadata": {
        "id": "d-lMdLCjn61R"
      }
    },
    {
      "cell_type": "code",
      "source": [
        "features = dict(zip(x_train.columns, forest.feature_importances_))\n",
        "df=pd.DataFrame(features.items(), columns=['Features','Values'])\n",
        "\n",
        "df = df.sort_values('Values', ascending=False).reset_index(drop=True)\n",
        "df.index = df.index + 1\n",
        "df = df.reset_index().rename(columns={'index': 'Rank'}).set_index('Rank')\n",
        "df.head(20)"
      ],
      "metadata": {
        "colab": {
          "base_uri": "https://localhost:8080/",
          "height": 700
        },
        "id": "AZHBNbSPn6_A",
        "outputId": "761f153f-6355-45eb-a717-4896d795343e"
      },
      "execution_count": 19,
      "outputs": [
        {
          "output_type": "execute_result",
          "data": {
            "text/plain": [
              "                        Features    Values\n",
              "Rank                                      \n",
              "1                   EXT_SOURCE_2  0.062550\n",
              "2                    DAYS_CREDIT  0.027564\n",
              "3                     DAYS_BIRTH  0.026960\n",
              "4                  DAYS_EMPLOYED  0.022319\n",
              "5             DAYS_CREDIT_UPDATE  0.021538\n",
              "6                DAYS_ID_PUBLISH  0.020667\n",
              "7                  AMT_ANNUITY_x  0.020306\n",
              "8                    AMT_PAYMENT  0.020215\n",
              "9              DAYS_REGISTRATION  0.019838\n",
              "10        DAYS_LAST_PHONE_CHANGE  0.018939\n",
              "11                  AMT_CREDIT_x  0.018916\n",
              "12                AMT_CREDIT_SUM  0.017736\n",
              "13             AMT_GOODS_PRICE_x  0.016941\n",
              "14                AMT_INSTALMENT  0.016566\n",
              "15    REGION_POPULATION_RELATIVE  0.016122\n",
              "16              SELLERPLACE_AREA  0.015922\n",
              "17     HOUR_APPR_PROCESS_START_y  0.015715\n",
              "18         CNT_INSTALMENT_FUTURE  0.015587\n",
              "19                 AMT_PAYMENT_x  0.015321\n",
              "20            DAYS_ENTRY_PAYMENT  0.015294"
            ],
            "text/html": [
              "\n",
              "  <div id=\"df-efe415b7-e9f6-44cc-ab98-6e8ab051f40b\">\n",
              "    <div class=\"colab-df-container\">\n",
              "      <div>\n",
              "<style scoped>\n",
              "    .dataframe tbody tr th:only-of-type {\n",
              "        vertical-align: middle;\n",
              "    }\n",
              "\n",
              "    .dataframe tbody tr th {\n",
              "        vertical-align: top;\n",
              "    }\n",
              "\n",
              "    .dataframe thead th {\n",
              "        text-align: right;\n",
              "    }\n",
              "</style>\n",
              "<table border=\"1\" class=\"dataframe\">\n",
              "  <thead>\n",
              "    <tr style=\"text-align: right;\">\n",
              "      <th></th>\n",
              "      <th>Features</th>\n",
              "      <th>Values</th>\n",
              "    </tr>\n",
              "    <tr>\n",
              "      <th>Rank</th>\n",
              "      <th></th>\n",
              "      <th></th>\n",
              "    </tr>\n",
              "  </thead>\n",
              "  <tbody>\n",
              "    <tr>\n",
              "      <th>1</th>\n",
              "      <td>EXT_SOURCE_2</td>\n",
              "      <td>0.062550</td>\n",
              "    </tr>\n",
              "    <tr>\n",
              "      <th>2</th>\n",
              "      <td>DAYS_CREDIT</td>\n",
              "      <td>0.027564</td>\n",
              "    </tr>\n",
              "    <tr>\n",
              "      <th>3</th>\n",
              "      <td>DAYS_BIRTH</td>\n",
              "      <td>0.026960</td>\n",
              "    </tr>\n",
              "    <tr>\n",
              "      <th>4</th>\n",
              "      <td>DAYS_EMPLOYED</td>\n",
              "      <td>0.022319</td>\n",
              "    </tr>\n",
              "    <tr>\n",
              "      <th>5</th>\n",
              "      <td>DAYS_CREDIT_UPDATE</td>\n",
              "      <td>0.021538</td>\n",
              "    </tr>\n",
              "    <tr>\n",
              "      <th>6</th>\n",
              "      <td>DAYS_ID_PUBLISH</td>\n",
              "      <td>0.020667</td>\n",
              "    </tr>\n",
              "    <tr>\n",
              "      <th>7</th>\n",
              "      <td>AMT_ANNUITY_x</td>\n",
              "      <td>0.020306</td>\n",
              "    </tr>\n",
              "    <tr>\n",
              "      <th>8</th>\n",
              "      <td>AMT_PAYMENT</td>\n",
              "      <td>0.020215</td>\n",
              "    </tr>\n",
              "    <tr>\n",
              "      <th>9</th>\n",
              "      <td>DAYS_REGISTRATION</td>\n",
              "      <td>0.019838</td>\n",
              "    </tr>\n",
              "    <tr>\n",
              "      <th>10</th>\n",
              "      <td>DAYS_LAST_PHONE_CHANGE</td>\n",
              "      <td>0.018939</td>\n",
              "    </tr>\n",
              "    <tr>\n",
              "      <th>11</th>\n",
              "      <td>AMT_CREDIT_x</td>\n",
              "      <td>0.018916</td>\n",
              "    </tr>\n",
              "    <tr>\n",
              "      <th>12</th>\n",
              "      <td>AMT_CREDIT_SUM</td>\n",
              "      <td>0.017736</td>\n",
              "    </tr>\n",
              "    <tr>\n",
              "      <th>13</th>\n",
              "      <td>AMT_GOODS_PRICE_x</td>\n",
              "      <td>0.016941</td>\n",
              "    </tr>\n",
              "    <tr>\n",
              "      <th>14</th>\n",
              "      <td>AMT_INSTALMENT</td>\n",
              "      <td>0.016566</td>\n",
              "    </tr>\n",
              "    <tr>\n",
              "      <th>15</th>\n",
              "      <td>REGION_POPULATION_RELATIVE</td>\n",
              "      <td>0.016122</td>\n",
              "    </tr>\n",
              "    <tr>\n",
              "      <th>16</th>\n",
              "      <td>SELLERPLACE_AREA</td>\n",
              "      <td>0.015922</td>\n",
              "    </tr>\n",
              "    <tr>\n",
              "      <th>17</th>\n",
              "      <td>HOUR_APPR_PROCESS_START_y</td>\n",
              "      <td>0.015715</td>\n",
              "    </tr>\n",
              "    <tr>\n",
              "      <th>18</th>\n",
              "      <td>CNT_INSTALMENT_FUTURE</td>\n",
              "      <td>0.015587</td>\n",
              "    </tr>\n",
              "    <tr>\n",
              "      <th>19</th>\n",
              "      <td>AMT_PAYMENT_x</td>\n",
              "      <td>0.015321</td>\n",
              "    </tr>\n",
              "    <tr>\n",
              "      <th>20</th>\n",
              "      <td>DAYS_ENTRY_PAYMENT</td>\n",
              "      <td>0.015294</td>\n",
              "    </tr>\n",
              "  </tbody>\n",
              "</table>\n",
              "</div>\n",
              "      <button class=\"colab-df-convert\" onclick=\"convertToInteractive('df-efe415b7-e9f6-44cc-ab98-6e8ab051f40b')\"\n",
              "              title=\"Convert this dataframe to an interactive table.\"\n",
              "              style=\"display:none;\">\n",
              "        \n",
              "  <svg xmlns=\"http://www.w3.org/2000/svg\" height=\"24px\"viewBox=\"0 0 24 24\"\n",
              "       width=\"24px\">\n",
              "    <path d=\"M0 0h24v24H0V0z\" fill=\"none\"/>\n",
              "    <path d=\"M18.56 5.44l.94 2.06.94-2.06 2.06-.94-2.06-.94-.94-2.06-.94 2.06-2.06.94zm-11 1L8.5 8.5l.94-2.06 2.06-.94-2.06-.94L8.5 2.5l-.94 2.06-2.06.94zm10 10l.94 2.06.94-2.06 2.06-.94-2.06-.94-.94-2.06-.94 2.06-2.06.94z\"/><path d=\"M17.41 7.96l-1.37-1.37c-.4-.4-.92-.59-1.43-.59-.52 0-1.04.2-1.43.59L10.3 9.45l-7.72 7.72c-.78.78-.78 2.05 0 2.83L4 21.41c.39.39.9.59 1.41.59.51 0 1.02-.2 1.41-.59l7.78-7.78 2.81-2.81c.8-.78.8-2.07 0-2.86zM5.41 20L4 18.59l7.72-7.72 1.47 1.35L5.41 20z\"/>\n",
              "  </svg>\n",
              "      </button>\n",
              "      \n",
              "  <style>\n",
              "    .colab-df-container {\n",
              "      display:flex;\n",
              "      flex-wrap:wrap;\n",
              "      gap: 12px;\n",
              "    }\n",
              "\n",
              "    .colab-df-convert {\n",
              "      background-color: #E8F0FE;\n",
              "      border: none;\n",
              "      border-radius: 50%;\n",
              "      cursor: pointer;\n",
              "      display: none;\n",
              "      fill: #1967D2;\n",
              "      height: 32px;\n",
              "      padding: 0 0 0 0;\n",
              "      width: 32px;\n",
              "    }\n",
              "\n",
              "    .colab-df-convert:hover {\n",
              "      background-color: #E2EBFA;\n",
              "      box-shadow: 0px 1px 2px rgba(60, 64, 67, 0.3), 0px 1px 3px 1px rgba(60, 64, 67, 0.15);\n",
              "      fill: #174EA6;\n",
              "    }\n",
              "\n",
              "    [theme=dark] .colab-df-convert {\n",
              "      background-color: #3B4455;\n",
              "      fill: #D2E3FC;\n",
              "    }\n",
              "\n",
              "    [theme=dark] .colab-df-convert:hover {\n",
              "      background-color: #434B5C;\n",
              "      box-shadow: 0px 1px 3px 1px rgba(0, 0, 0, 0.15);\n",
              "      filter: drop-shadow(0px 1px 2px rgba(0, 0, 0, 0.3));\n",
              "      fill: #FFFFFF;\n",
              "    }\n",
              "  </style>\n",
              "\n",
              "      <script>\n",
              "        const buttonEl =\n",
              "          document.querySelector('#df-efe415b7-e9f6-44cc-ab98-6e8ab051f40b button.colab-df-convert');\n",
              "        buttonEl.style.display =\n",
              "          google.colab.kernel.accessAllowed ? 'block' : 'none';\n",
              "\n",
              "        async function convertToInteractive(key) {\n",
              "          const element = document.querySelector('#df-efe415b7-e9f6-44cc-ab98-6e8ab051f40b');\n",
              "          const dataTable =\n",
              "            await google.colab.kernel.invokeFunction('convertToInteractive',\n",
              "                                                     [key], {});\n",
              "          if (!dataTable) return;\n",
              "\n",
              "          const docLinkHtml = 'Like what you see? Visit the ' +\n",
              "            '<a target=\"_blank\" href=https://colab.research.google.com/notebooks/data_table.ipynb>data table notebook</a>'\n",
              "            + ' to learn more about interactive tables.';\n",
              "          element.innerHTML = '';\n",
              "          dataTable['output_type'] = 'display_data';\n",
              "          await google.colab.output.renderOutput(dataTable, element);\n",
              "          const docLink = document.createElement('div');\n",
              "          docLink.innerHTML = docLinkHtml;\n",
              "          element.appendChild(docLink);\n",
              "        }\n",
              "      </script>\n",
              "    </div>\n",
              "  </div>\n",
              "  "
            ]
          },
          "metadata": {},
          "execution_count": 19
        }
      ]
    }
  ]
}